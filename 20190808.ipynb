{
 "cells": [
  {
   "cell_type": "markdown",
   "metadata": {},
   "source": [
    "# 20190808 수업\n",
    "## 함수 정의\n",
    "- 매개변수 유무에 따라 있는 차이가 거의 없다. 괄호 속 매개변수와 리턴 값의 유무만 달라진다.\n",
    "- 아래의 코드는 어떠한 시작하는 값부터 끝 값까지의 합을 구하는 함수를 구현한 것이다."
   ]
  },
  {
   "cell_type": "code",
   "execution_count": 2,
   "metadata": {},
   "outputs": [
    {
     "name": "stdout",
     "output_type": "stream",
     "text": [
      "55\n"
     ]
    }
   ],
   "source": [
    "def Sum10(start_n, stop_n): # 매개변수가 있을 시 정의할 때 괄호 속에 적어준다.\n",
    "    sum10 = 0\n",
    "    for i in range(start_n, stop_n+1):\n",
    "        sum10 += i\n",
    "    return sum10 # 별다른 리턴 값이 없을 시 그냥 return으로 반환 시킨다.\n",
    "\n",
    "result = Sum10(1, 10) # 함수의 이름과 매개변수의 값을 넣음으로써 함수를 호출한다.\n",
    "print(result)"
   ]
  },
  {
   "cell_type": "markdown",
   "metadata": {},
   "source": [
    "## 가변 매개변수\n",
    "- 매개변수는 튜플 가변 매개변수와 딕셔너리 가변 매개변수가 있다."
   ]
  },
  {
   "cell_type": "code",
   "execution_count": 5,
   "metadata": {},
   "outputs": [
    {
     "name": "stdout",
     "output_type": "stream",
     "text": [
      " 문 자 열 합 치 기\n",
      " 문자열 합치기\n"
     ]
    },
    {
     "data": {
      "text/plain": [
       "' 문자열 합치기'"
      ]
     },
     "execution_count": 5,
     "metadata": {},
     "output_type": "execute_result"
    }
   ],
   "source": [
    "def merge_string(*tlist): # 튜플의 경우 *로 표기 딕셔너리는 **로 표기한다.\n",
    "    result = ''\n",
    "    for s in tlist:\n",
    "        result = result + \" \" + s\n",
    "    print(result)\n",
    "    return result\n",
    "\n",
    "merge_string('문', '자', '열', '합', '치', '기')\n",
    "merge_string('문자열', '합치기')"
   ]
  },
  {
   "cell_type": "code",
   "execution_count": 6,
   "metadata": {},
   "outputs": [
    {
     "name": "stdout",
     "output_type": "stream",
     "text": [
      "a = 1\n",
      "b = 2\n"
     ]
    }
   ],
   "source": [
    "def Call_Dict(**gdata): # 딕셔너리의 경우 콜론이 아닌 = 로 적어 호출해야 한다.\n",
    "    for k, v in gdata.items():\n",
    "        print(\"{0} = {1}\".format(k, v))\n",
    "Call_Dict(a = 1, b = 2)"
   ]
  },
  {
   "cell_type": "markdown",
   "metadata": {},
   "source": [
    "## 평균, 분산, 표준편차 구하기"
   ]
  },
  {
   "cell_type": "code",
   "execution_count": 7,
   "metadata": {},
   "outputs": [
    {
     "name": "stdout",
     "output_type": "stream",
     "text": [
      "평균 : 4.0\n"
     ]
    },
    {
     "data": {
      "text/plain": [
       "4.0"
      ]
     },
     "execution_count": 7,
     "metadata": {},
     "output_type": "execute_result"
    }
   ],
   "source": [
    "# 평균\n",
    "def mean(args):\n",
    "    m = sum(args) / len(args)\n",
    "    print('평균 :', str(m))\n",
    "    return m\n",
    "\n",
    "data = [1, 2, 3, 4, 5, 6, 7]\n",
    "mean(data)"
   ]
  },
  {
   "cell_type": "code",
   "execution_count": 8,
   "metadata": {},
   "outputs": [
    {
     "name": "stdout",
     "output_type": "stream",
     "text": [
      "평균 : 4.0\n",
      "분산 : 4.0\n"
     ]
    },
    {
     "data": {
      "text/plain": [
       "4.0"
      ]
     },
     "execution_count": 8,
     "metadata": {},
     "output_type": "execute_result"
    }
   ],
   "source": [
    "# 분산\n",
    "def variance(args):\n",
    "    total = 0\n",
    "    m = mean(args)\n",
    "    for arg in args:\n",
    "        total += (arg - m) ** 2\n",
    "    var = total / len(args)\n",
    "    print('분산 :', str(var))\n",
    "    return var\n",
    "\n",
    "data = [1, 2, 3, 4, 5, 6, 7]\n",
    "variance(data)"
   ]
  },
  {
   "cell_type": "code",
   "execution_count": 9,
   "metadata": {},
   "outputs": [
    {
     "name": "stdout",
     "output_type": "stream",
     "text": [
      "평균 : 4.0\n",
      "분산 : 4.0\n",
      "표준편차 : 2.0\n"
     ]
    },
    {
     "data": {
      "text/plain": [
       "2.0"
      ]
     },
     "execution_count": 9,
     "metadata": {},
     "output_type": "execute_result"
    }
   ],
   "source": [
    "# 표준편차\n",
    "import math\n",
    "def stddev(data):\n",
    "    v = variance(data)\n",
    "    sd = math.sqrt(v)\n",
    "    print('표준편차 :', str(sd))\n",
    "    return sd\n",
    "\n",
    "data = [1, 2, 3, 4, 5, 6, 7]\n",
    "stddev(data)"
   ]
  },
  {
   "cell_type": "markdown",
   "metadata": {},
   "source": [
    "## 클래스\n",
    "- __init__(): 객체가 생성될 때 호출되는 메소드\n",
    "- self: 객체 자신을 의미"
   ]
  },
  {
   "cell_type": "code",
   "execution_count": 10,
   "metadata": {},
   "outputs": [],
   "source": [
    "#클래스 정의\n",
    "class Car:\n",
    "    def __init__(self): #생성자, self = this\n",
    "        self.color = 0xFF0000\n",
    "        self.wheel = 18\n",
    "        self.displacement = 2000\n",
    "        \n",
    "    def forward(self):\n",
    "        pass\n",
    "    def backward(self):\n",
    "        pass\n",
    "    def turn_left(self):\n",
    "        pass\n",
    "    def turn_right(self):\n",
    "        pass"
   ]
  },
  {
   "cell_type": "markdown",
   "metadata": {},
   "source": [
    "- 메소드 안에서 정의한 text_list는 각 객체마다 고유한 인스턴스로 사용"
   ]
  },
  {
   "cell_type": "code",
   "execution_count": 11,
   "metadata": {},
   "outputs": [
    {
     "name": "stdout",
     "output_type": "stream",
     "text": [
      "['a']\n",
      "['b']\n"
     ]
    }
   ],
   "source": [
    "class InstanceVar:\n",
    "    def __init__(self):\n",
    "        self.text_list = []\n",
    "        \n",
    "    def add(self, text):\n",
    "        self.text_list.append(text)\n",
    "    \n",
    "    def print_list(self):\n",
    "        print(self.text_list)\n",
    "\n",
    "if __name__ == '__main__':\n",
    "    a = InstanceVar()\n",
    "    a.add('a')\n",
    "    a.print_list() # ['a']출력을 기대\n",
    "    \n",
    "    b = InstanceVar()\n",
    "    b.add('b')\n",
    "    b.print_list() # ['b']출력을 기대"
   ]
  },
  {
   "cell_type": "markdown",
   "metadata": {},
   "source": [
    "## get/set 속성값과 프로퍼티\n",
    "- 아래와 같이 getter 메서드 앞에 @property나 @setter를 이용해 호출 시 명령어를 가볍게 만들 수 있다. "
   ]
  },
  {
   "cell_type": "code",
   "execution_count": 12,
   "metadata": {},
   "outputs": [
    {
     "name": "stdout",
     "output_type": "stream",
     "text": [
      "Inside the getter\n",
      "Park\n",
      "Inside the setter\n",
      "Inside the getter\n",
      "Kim\n"
     ]
    }
   ],
   "source": [
    "class Duck():\n",
    "    def __init__(self, input_name):\n",
    "        self.hidden_name = input_name\n",
    "    @property\n",
    "    def name(self):\n",
    "        print('Inside the getter')\n",
    "        return self.hidden_name\n",
    "    @name.setter\n",
    "    def name(self, input_name):\n",
    "        print('Inside the setter')\n",
    "        self.hidden_name = input_name\n",
    "        \n",
    "duck1 = Duck('Park')\n",
    "print(duck1.name)\n",
    "\n",
    "duck1.name = 'Kim'\n",
    "print(duck1.name)"
   ]
  },
  {
   "cell_type": "markdown",
   "metadata": {},
   "source": [
    "## Class 과제\n",
    "- 사칙연산을 수행하는 클래스 작성\n",
    "    - 사칙연산 결과 표시\n",
    "    - 입력은 두 수를 받음\n",
    "    - 연산횟수 표시\n",
    "    - 연산 누적결과 표시"
   ]
  },
  {
   "cell_type": "code",
   "execution_count": 13,
   "metadata": {},
   "outputs": [],
   "source": [
    "class Calculator:\n",
    "    Cum = 0\n",
    "    \n",
    "    def __init__(self):\n",
    "        self.add = 0\n",
    "        self.sub = 0\n",
    "        self.mul = 0\n",
    "        self.div = 0\n",
    "        \n",
    "    def Add(self, a, b):\n",
    "        self.add += 1\n",
    "        result = a + b\n",
    "        self.Cum += result\n",
    "        return result\n",
    "    \n",
    "    def Sub(self, a, b):\n",
    "        self.sub += 1\n",
    "        result = a - b\n",
    "        self.Cum += result\n",
    "        return result\n",
    "    \n",
    "    def Mul(self, a, b):\n",
    "        self.mul += 1\n",
    "        result = a * b\n",
    "        self.Cum += result\n",
    "        return result\n",
    "    \n",
    "    def Div(self, a, b):\n",
    "        self.div += 1\n",
    "        result = a / b\n",
    "        self.Cum += result\n",
    "        return result\n",
    "    \n",
    "    def ShowCnt(self):\n",
    "        print('덧셈 :', self.add)\n",
    "        print('뺄셈 :', self.sub)\n",
    "        print('곱셈 :', self.mul)\n",
    "        print('나눗셈 :',self.div)"
   ]
  },
  {
   "cell_type": "code",
   "execution_count": 14,
   "metadata": {},
   "outputs": [
    {
     "name": "stdout",
     "output_type": "stream",
     "text": [
      "62.0\n",
      "덧셈 : 3\n",
      "뺄셈 : 1\n",
      "곱셈 : 1\n",
      "나눗셈 : 1\n"
     ]
    }
   ],
   "source": [
    "cal = Calculator()\n",
    "cal.Add(10, 2)\n",
    "cal.Add(3, 2)\n",
    "cal.Sub(10, 2)\n",
    "cal.Mul(10, 2)\n",
    "cal.Div(10, 2)\n",
    "cal.Add(10, 2)\n",
    "print(cal.Cum)\n",
    "cal.ShowCnt()"
   ]
  }
 ],
 "metadata": {
  "kernelspec": {
   "display_name": "Python 3",
   "language": "python",
   "name": "python3"
  },
  "language_info": {
   "codemirror_mode": {
    "name": "ipython",
    "version": 3
   },
   "file_extension": ".py",
   "mimetype": "text/x-python",
   "name": "python",
   "nbconvert_exporter": "python",
   "pygments_lexer": "ipython3",
   "version": "3.6.4"
  }
 },
 "nbformat": 4,
 "nbformat_minor": 2
}
