{
 "cells": [
  {
   "cell_type": "code",
   "execution_count": 21,
   "metadata": {},
   "outputs": [],
   "source": [
    "#2019.8.5."
   ]
  },
  {
   "cell_type": "code",
   "execution_count": 5,
   "metadata": {},
   "outputs": [
    {
     "name": "stdout",
     "output_type": "stream",
     "text": [
      "{'a': 'b', 'c': 'd', 'e': 'f'}\n",
      "{'a': 'b', 'c': 'd', 'e': 'f'}\n"
     ]
    }
   ],
   "source": [
    "a_list = [['a', 'b'], ['c', 'd'], ['e', 'f']]\n",
    "dict_a = dict(a_list)\n",
    "print(dict_a)\n",
    "\n",
    "b_list = ['ab', 'cd', 'ef']\n",
    "dict_b = dict(b_list)\n",
    "print(dict_b)"
   ]
  },
  {
   "cell_type": "code",
   "execution_count": 8,
   "metadata": {},
   "outputs": [
    {
     "data": {
      "text/plain": [
       "dict_keys(['a', 'c', 'e'])"
      ]
     },
     "execution_count": 8,
     "metadata": {},
     "output_type": "execute_result"
    }
   ],
   "source": [
    "dict_a.keys()"
   ]
  },
  {
   "cell_type": "code",
   "execution_count": 19,
   "metadata": {},
   "outputs": [
    {
     "data": {
      "text/plain": [
       "dict_values(['b', 'd', 'f'])"
      ]
     },
     "execution_count": 19,
     "metadata": {},
     "output_type": "execute_result"
    }
   ],
   "source": [
    "dict_b.values()"
   ]
  },
  {
   "cell_type": "code",
   "execution_count": 11,
   "metadata": {},
   "outputs": [
    {
     "data": {
      "text/plain": [
       "dict_items([('a', 'b'), ('c', 'd'), ('e', 'f')])"
      ]
     },
     "execution_count": 11,
     "metadata": {},
     "output_type": "execute_result"
    }
   ],
   "source": [
    "dict_a.items()"
   ]
  },
  {
   "cell_type": "code",
   "execution_count": 14,
   "metadata": {},
   "outputs": [
    {
     "data": {
      "text/plain": [
       "dict_items([('a', 'b'), ('e', 'f')])"
      ]
     },
     "execution_count": 14,
     "metadata": {},
     "output_type": "execute_result"
    }
   ],
   "source": [
    "#dict_a.pop('c')\n",
    "dict_a.items()"
   ]
  },
  {
   "cell_type": "code",
   "execution_count": 17,
   "metadata": {},
   "outputs": [
    {
     "data": {
      "text/plain": [
       "True"
      ]
     },
     "execution_count": 17,
     "metadata": {},
     "output_type": "execute_result"
    }
   ],
   "source": [
    "'a' in dict_a.keys()"
   ]
  },
  {
   "cell_type": "code",
   "execution_count": 24,
   "metadata": {},
   "outputs": [
    {
     "name": "stdout",
     "output_type": "stream",
     "text": [
      "{'a': 'b', 'e': 'f', 'c': 'd'}\n"
     ]
    }
   ],
   "source": [
    "dict_a.update(dict_b)\n",
    "print(dict_a)"
   ]
  },
  {
   "cell_type": "code",
   "execution_count": 26,
   "metadata": {},
   "outputs": [
    {
     "data": {
      "text/plain": [
       "OrderedDict([('a', 'b'), ('c', 'd'), ('e', 'f')])"
      ]
     },
     "execution_count": 26,
     "metadata": {},
     "output_type": "execute_result"
    }
   ],
   "source": [
    "#딕셔너리 정렬을 사용하기 위해 collections 를 넣어준다\n",
    "collections.OrderedDict(sorted(dict_a.items()))"
   ]
  },
  {
   "cell_type": "code",
   "execution_count": 32,
   "metadata": {},
   "outputs": [
    {
     "name": "stdout",
     "output_type": "stream",
     "text": [
      "{'a': 3, 'b': 7, 'c': 1}\n",
      "OrderedDict([('a', 3), ('b', 7), ('c', 1)])\n",
      "OrderedDict([('c', 1), ('a', 3), ('b', 7)])\n"
     ]
    }
   ],
   "source": [
    "d = {}\n",
    "d['a'] = 3\n",
    "d['b'] = 7\n",
    "d['c'] = 1\n",
    "print(d)\n",
    "\n",
    "dk = collections.OrderedDict(sorted(d.items()))\n",
    "print(dk)\n",
    "\n",
    "dv = collections.OrderedDict(sorted(d.items(), key=lambda t : t[1]))\n",
    "print(dv)"
   ]
  },
  {
   "cell_type": "code",
   "execution_count": 40,
   "metadata": {},
   "outputs": [
    {
     "name": "stdout",
     "output_type": "stream",
     "text": [
      "['x', 'd', 'y', 'z']\n",
      "OrderedDict([('k', 6), ('a', 10), ('z', 15), ('d', 21), ('x', 45), ('y', 97)])\n",
      "{'x': 45, 'd': 21, 'y': 97, 'k': 6}\n"
     ]
    }
   ],
   "source": [
    "A_list =['a', 'x', 'd', 'y', 'k', 'z'] \n",
    "B_list =[10,45,21,97,6,15]\n",
    "Z_list = dict(zip(A_list, B_list))\n",
    "lis = []\n",
    "for ke, val in Z_list.items():\n",
    "    if val%2 == 1:\n",
    "        lis += ke\n",
    "print(lis)\n",
    "Z_values_list = collections.OrderedDict(sorted(Z_list.items(), key=lambda t : t[1]))\n",
    "print(Z_values_list)\n",
    "Z_list.pop('a')\n",
    "Z_list.pop('z')\n",
    "print(Z_list)"
   ]
  }
 ],
 "metadata": {
  "kernelspec": {
   "display_name": "Python 3",
   "language": "python",
   "name": "python3"
  },
  "language_info": {
   "codemirror_mode": {
    "name": "ipython",
    "version": 3
   },
   "file_extension": ".py",
   "mimetype": "text/x-python",
   "name": "python",
   "nbconvert_exporter": "python",
   "pygments_lexer": "ipython3",
   "version": "3.6.4"
  }
 },
 "nbformat": 4,
 "nbformat_minor": 2
}
