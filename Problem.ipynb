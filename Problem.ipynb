{
 "cells": [
  {
   "cell_type": "code",
   "execution_count": 3,
   "metadata": {},
   "outputs": [
    {
     "name": "stdout",
     "output_type": "stream",
     "text": [
      "592285685966293293554\n",
      "['592', '285', '685', '966', '293', '293', '554']\n"
     ]
    },
    {
     "data": {
      "text/plain": [
       "'turgnne'"
      ]
     },
     "execution_count": 3,
     "metadata": {},
     "output_type": "execute_result"
    }
   ],
   "source": [
    "change = {'a': '231', 'b': '354', 'c': '112', 'd': '212', 'e': '554', 'f': '324', 'g': '966', 'h': '435', 'i': '576', 'j': '675', 'k': '686', 'l': '887', 'm': '584', \n",
    "          'n': '293', 'o': '944', 'p': '238', 'q': '213', 'r': '685', 's': '878', 't': '592', 'u': '285', 'v': '922', 'w': '496', 'x': '788', 'y': '999', 'z': '111'}\n",
    "word = input('영어 입력 : ')\n",
    "word = word.lower()\n",
    "crt = list(word)\n",
    "pwd = ''\n",
    "for i in range(0, len(crt)):\n",
    "    pwd += change[crt[i]]\n",
    "print(pwd)\n",
    "#이 패스워드를 해석하기 위해 아래 명령어를 입력하세요. /[]/ < 빈칸\n",
    "lit = []\n",
    "for i in range(0, int(len(pwd)/3)):\n",
    "    lit.append(pwd[3*i:3*(i+1)])\n",
    "print(lit)\n",
    "end = ''\n",
    "for i in range(0, len(lit)):\n",
    "    for pw, num in change.items():\n",
    "        if num == lit[i]:\n",
    "            end += pw\n",
    "end"
   ]
  }
 ],
 "metadata": {
  "kernelspec": {
   "display_name": "Python 3",
   "language": "python",
   "name": "python3"
  },
  "language_info": {
   "codemirror_mode": {
    "name": "ipython",
    "version": 3
   },
   "file_extension": ".py",
   "mimetype": "text/x-python",
   "name": "python",
   "nbconvert_exporter": "python",
   "pygments_lexer": "ipython3",
   "version": "3.6.4"
  }
 },
 "nbformat": 4,
 "nbformat_minor": 2
}
