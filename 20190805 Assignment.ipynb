{
 "cells": [
  {
   "cell_type": "code",
   "execution_count": 4,
   "metadata": {},
   "outputs": [
    {
     "name": "stdout",
     "output_type": "stream",
     "text": [
      "{'a': 10, 'x': 45, 'd': 21, 'y': 97, 'k': 6, 'z': 15}\n",
      "['x', 'd', 'y', 'z']\n",
      "OrderedDict([('k', 6), ('a', 10), ('z', 15), ('d', 21), ('x', 45), ('y', 97)])\n",
      "{'x': 45, 'd': 21, 'y': 97, 'k': 6}\n"
     ]
    }
   ],
   "source": [
    "import collections\n",
    "\n",
    "A_list =['a', 'x', 'd', 'y', 'k', 'z'] \n",
    "B_list =[10, 45, 21, 97, 6, 15]\n",
    "\n",
    "# 두 개의 리스트를 딕셔너리로 만드는 과정\n",
    "Z_list = dict(zip(A_list, B_list))\n",
    "print(Z_list)\n",
    "\n",
    "# 홀수에 해당하는 key 를 추출하는 과정\n",
    "lis = []\n",
    "for ke, val in Z_list.items(): # 딕셔너리의 key(ke)와 values(val)를 순차적으로 호출한다.\n",
    "    if val%2 == 1:\n",
    "        lis += ke\n",
    "print(lis)\n",
    "\n",
    "# values 기준으로 정렬하는 과정\n",
    "Z_values_list = collections.OrderedDict(sorted(Z_list.items(), key=lambda t : t[1]))\n",
    "print(Z_values_list)\n",
    "\n",
    "# a, z 라는 key 제거하는 과정\n",
    "Z_list.pop('a')\n",
    "Z_list.pop('z')\n",
    "print(Z_list)"
   ]
  },
  {
   "cell_type": "code",
   "execution_count": null,
   "metadata": {},
   "outputs": [],
   "source": []
  }
 ],
 "metadata": {
  "kernelspec": {
   "display_name": "Python 3",
   "language": "python",
   "name": "python3"
  },
  "language_info": {
   "codemirror_mode": {
    "name": "ipython",
    "version": 3
   },
   "file_extension": ".py",
   "mimetype": "text/x-python",
   "name": "python",
   "nbconvert_exporter": "python",
   "pygments_lexer": "ipython3",
   "version": "3.6.4"
  }
 },
 "nbformat": 4,
 "nbformat_minor": 2
}
