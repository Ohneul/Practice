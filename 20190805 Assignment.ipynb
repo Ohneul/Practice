{
 "cells": [
  {
   "cell_type": "markdown",
   "metadata": {},
   "source": [
    "## 2019.08.05. 과제\n",
    "1. 제시 된 두개의 리스트을 이용하여 문제 풀기\n",
    "    1. 두개의 리스트를 딕셔너리로 만들기\n",
    "    2. 홀수에 해당하는 key 를 추출하기\n",
    "        1. 코딩 함축\n",
    "    3. value 기준으로 정렬하기\n",
    "    4. a, z 라는 key 제거하기\n",
    "2. 입력받은 수가 짝수인지 홀수인지 판별\n",
    "3. 1 부터 100 까지의 정수 중에 홀수의 갯수 구하기\n",
    "4. 1 부터 100 까지의 정수 중에 50 이상의 홀수 구하기\n",
    "    1. 코딩 함축"
   ]
  },
  {
   "cell_type": "code",
   "execution_count": 18,
   "metadata": {},
   "outputs": [
    {
     "name": "stdout",
     "output_type": "stream",
     "text": [
      "{'a': 10, 'x': 45, 'd': 21, 'y': 97, 'k': 6, 'z': 15}\n",
      "['x', 'd', 'y', 'z']\n",
      "['x', 'd', 'y', 'z']\n",
      "OrderedDict([('k', 6), ('a', 10), ('z', 15), ('d', 21), ('x', 45), ('y', 97)])\n",
      "{'x': 45, 'd': 21, 'y': 97, 'k': 6}\n"
     ]
    }
   ],
   "source": [
    "# 1\n",
    "A_list =['a', 'x', 'd', 'y', 'k', 'z'] \n",
    "B_list =[10, 45, 21, 97, 6, 15]\n",
    "\n",
    "# 1-A\n",
    "Z_list = dict(zip(A_list, B_list))\n",
    "print(Z_list)\n",
    "\n",
    "# 1-B\n",
    "lis = []\n",
    "for ke, val in Z_list.items(): # 딕셔너리의 key(ke)와 values(val)를 순차적으로 호출한다.\n",
    "    if val%2 == 1:\n",
    "        lis += ke\n",
    "print(lis)\n",
    "\n",
    "# 1-B-a\n",
    "lis = [ke for ke, val in Z_list.items() if val%2 == 1]\n",
    "print(lis)\n",
    "\n",
    "# 1-C\n",
    "import collections\n",
    "Z_values_list = collections.OrderedDict(sorted(Z_list.items(), key=lambda t : t[1]))\n",
    "print(Z_values_list)\n",
    "\n",
    "# 1-D\n",
    "Z_list.pop('a')\n",
    "Z_list.pop('z')\n",
    "print(Z_list)"
   ]
  },
  {
   "cell_type": "code",
   "execution_count": 9,
   "metadata": {},
   "outputs": [
    {
     "name": "stdout",
     "output_type": "stream",
     "text": [
      "숫자 : 12321\n",
      "홀수\n"
     ]
    }
   ],
   "source": [
    "# 2\n",
    "a = input('숫자 : ')\n",
    "if int(a)%2 == 0: # 입력값의 나머지가 0이면 짝수\n",
    "    print('짝수')\n",
    "else: # 0이 아니면 홀수\n",
    "    print('홀수')"
   ]
  },
  {
   "cell_type": "code",
   "execution_count": 17,
   "metadata": {},
   "outputs": [
    {
     "name": "stdout",
     "output_type": "stream",
     "text": [
      "50\n",
      "51 53 55 57 59 61 63 65 67 69 71 73 75 77 79 81 83 85 87 89 91 93 95 97 99 \n",
      "[51, 53, 55, 57, 59, 61, 63, 65, 67, 69, 71, 73, 75, 77, 79, 81, 83, 85, 87, 89, 91, 93, 95, 97, 99]\n"
     ]
    }
   ],
   "source": [
    "# 3\n",
    "count = 0\n",
    "for i in range(1, 101): # 1~100까지 반복\n",
    "    if i%2 == 1:\n",
    "        count += 1\n",
    "print(count)\n",
    "\n",
    "# 4\n",
    "for i in range(1, 101):\n",
    "    if i >= 50 and i%2 == 1: # 50보다 크고 i를 2로 나눌때 나머지가 1이면 홀수\n",
    "        print(i,end=\" \") # 출력 시 줄바꿈이 아닌 띄어쓰기로 종료\n",
    "print()\n",
    "\n",
    "# 4-A\n",
    "y_list = [num for num in range(1, 101) if num >= 50 and num % 2 == 1]\n",
    "print(y_list)"
   ]
  }
 ],
 "metadata": {
  "kernelspec": {
   "display_name": "Python 3",
   "language": "python",
   "name": "python3"
  },
  "language_info": {
   "codemirror_mode": {
    "name": "ipython",
    "version": 3
   },
   "file_extension": ".py",
   "mimetype": "text/x-python",
   "name": "python",
   "nbconvert_exporter": "python",
   "pygments_lexer": "ipython3",
   "version": "3.6.4"
  }
 },
 "nbformat": 4,
 "nbformat_minor": 2
}
