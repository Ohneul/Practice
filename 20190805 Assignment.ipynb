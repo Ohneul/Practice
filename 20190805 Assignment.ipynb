{
 "cells": [
  {
   "cell_type": "code",
   "execution_count": 4,
   "metadata": {},
   "outputs": [
    {
     "name": "stdout",
     "output_type": "stream",
     "text": [
      "{'a': 10, 'x': 45, 'd': 21, 'y': 97, 'k': 6, 'z': 15}\n",
      "['x', 'd', 'y', 'z']\n",
      "OrderedDict([('k', 6), ('a', 10), ('z', 15), ('d', 21), ('x', 45), ('y', 97)])\n",
      "{'x': 45, 'd': 21, 'y': 97, 'k': 6}\n"
     ]
    }
   ],
   "source": [
    "import collections\n",
    "\n",
    "A_list =['a', 'x', 'd', 'y', 'k', 'z'] \n",
    "B_list =[10, 45, 21, 97, 6, 15]\n",
    "\n",
    "# 두 개의 리스트를 딕셔너리로 만드는 과정\n",
    "Z_list = dict(zip(A_list, B_list))\n",
    "print(Z_list)\n",
    "\n",
    "# 홀수에 해당하는 key 를 추출하는 과정\n",
    "lis = []\n",
    "for ke, val in Z_list.items(): # 딕셔너리의 key(ke)와 values(val)를 순차적으로 호출한다.\n",
    "    if val%2 == 1:\n",
    "        lis += ke\n",
    "print(lis)\n",
    "\n",
    "# values 기준으로 정렬하는 과정\n",
    "Z_values_list = collections.OrderedDict(sorted(Z_list.items(), key=lambda t : t[1]))\n",
    "print(Z_values_list)\n",
    "\n",
    "# a, z 라는 key 제거하는 과정\n",
    "Z_list.pop('a')\n",
    "Z_list.pop('z')\n",
    "print(Z_list)"
   ]
  },
  {
   "cell_type": "code",
   "execution_count": 9,
   "metadata": {},
   "outputs": [
    {
     "name": "stdout",
     "output_type": "stream",
     "text": [
      "숫자 : 12321\n",
      "홀수\n"
     ]
    }
   ],
   "source": [
    "# 입력한 수가 짝수인지, 홀수인지 판별\n",
    "a = input('숫자 : ')\n",
    "if int(a)%2 == 0: # 입력값의 나머지가 0이면 짝수\n",
    "    print('짝수')\n",
    "else: # 0이 아니면 홀수\n",
    "    print('홀수')"
   ]
  },
  {
   "cell_type": "code",
   "execution_count": 15,
   "metadata": {},
   "outputs": [
    {
     "name": "stdout",
     "output_type": "stream",
     "text": [
      "50\n",
      "51 53 55 57 59 61 63 65 67 69 71 73 75 77 79 81 83 85 87 89 91 93 95 97 99 "
     ]
    }
   ],
   "source": [
    "# 1~100까지 중 홀수 구하고 개수 출력하고 50 이상의 홀수 출력\n",
    "count = 0\n",
    "for i in range(1, 100):\n",
    "    if i%2 == 1:\n",
    "        count += 1\n",
    "print(count)\n",
    "for i in range(1, 100):\n",
    "    if i >= 50 and i%2 == 1: # 50보다 크고 i를 2로 나눌때 나머지가 1이면 홀수\n",
    "        print(i,end=\" \") # 출력 시 줄바꿈이 아닌 띄어쓰기로 종료"
   ]
  }
 ],
 "metadata": {
  "kernelspec": {
   "display_name": "Python 3",
   "language": "python",
   "name": "python3"
  },
  "language_info": {
   "codemirror_mode": {
    "name": "ipython",
    "version": 3
   },
   "file_extension": ".py",
   "mimetype": "text/x-python",
   "name": "python",
   "nbconvert_exporter": "python",
   "pygments_lexer": "ipython3",
   "version": "3.6.4"
  }
 },
 "nbformat": 4,
 "nbformat_minor": 2
}
