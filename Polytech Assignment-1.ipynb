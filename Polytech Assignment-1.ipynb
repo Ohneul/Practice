{
 "cells": [
  {
   "cell_type": "code",
   "execution_count": 44,
   "metadata": {
    "scrolled": true
   },
   "outputs": [
    {
     "name": "stdout",
     "output_type": "stream",
     "text": [
      "3 * 9 = 27\n"
     ]
    }
   ],
   "source": [
    "# 문제1 \n",
    "# [문자열]\n",
    "# in_str = \"       3      27      9          \"  \n",
    "# 문자열 in_str이 있다. 입력 문자열을 이용하여 다음과 같은 출력을 표현하게 하고 싶다.\n",
    "\n",
    "# 3 * 9 = 27\n",
    "# print(first+\" * \"+second+\" = \"+result)\n",
    "\n",
    "# 각각의 변수들(first,second,result)에 값을 할당(리스트 이용)하여 처리하시오.\n",
    "# 이 문제를 해결할 파이썬 프로그램을 작성하시오.\n",
    "# in_str을 Python 프로그램을 이용하여 새로운 문자열 new_str=\"3 9 27\"로 만들어보시오.\n",
    "# GitHub에 올리시오\n",
    "\n",
    "\n",
    "in_str = \"       3      27      9          \"\n",
    "f_list = in_str.split()\n",
    "f_list = list(map(int, f_list))\n",
    "f_list.sort()\n",
    "f_list = list(map(str, f_list))\n",
    "first = f_list[0]\n",
    "second = f_list[1]\n",
    "result = f_list[2]\n",
    "print(first+\" * \"+second+\" = \"+result)"
   ]
  },
  {
   "cell_type": "code",
   "execution_count": 54,
   "metadata": {},
   "outputs": [
    {
     "name": "stdout",
     "output_type": "stream",
     "text": [
      "영문자 소문자만 입력 : asdasd\n",
      "97\n"
     ]
    }
   ],
   "source": [
    "# 문제2\n",
    "# [리스트]\n",
    "# 문자열 ascii를 리스트로 만들고, 멤버를 입력하면 아스키 코드값을 출력하시오\n",
    "# 예) w를 입력하면 아스키코드 112를 출력\n",
    "# 영문자 소문자만 대상\n",
    "# ascii=\"abcdefghijklmnopqrstuvwxyz\"\n",
    "# 프로그램을 GitHub에 올리시오\n",
    "\n",
    "\n",
    "ascii_lit = list(\"abcdefghijklmnopqrstuvwxyz\")\n",
    "while True:\n",
    "    in_ascii = input(\"영문자 소문자만 입력 : \")[0:1]\n",
    "    if in_ascii in ascii_lit:\n",
    "        print(ord(in_ascii))\n",
    "        break\n",
    "    else:\n",
    "        continue"
   ]
  },
  {
   "cell_type": "code",
   "execution_count": 70,
   "metadata": {},
   "outputs": [
    {
     "name": "stdout",
     "output_type": "stream",
     "text": [
      "{'0': 48, 'A': 65, 'Bel': 7, 'CR': 13, 'ESC': 27, 'a': 97}\n"
     ]
    }
   ],
   "source": [
    "# 문제3\n",
    "# [딕셔너리]\n",
    "# ASCII Code 값 : Bel-7, CR-13, ESC-27, 0-48, A-65, a-97 \n",
    "\n",
    "# ascii_list = ['Bel','CR','ESC','0','A','a']\n",
    "# code_list = [7,13,27,48,65,97]\n",
    "# 두개의 리스트를 결합하여 딕셔너리를 만들어 보시오\n",
    "# zip()함수 사용\n",
    "# 프로그램을 GitHub에 올리시오\n",
    "\n",
    "#  결과\n",
    "#  {'0': 48, 'A': 65, 'Bel': 7, 'CR': 13, 'ESC': 27, 'a': 97}\n",
    "\n",
    "\n",
    "ascii_list = ['Bel','CR','ESC','0','A','a']\n",
    "code_list = [7,13,27,48,65,97]\n",
    "value_dict = dict(zip(ascii_list, code_list))\n",
    "value_dict = dict(sorted(value_dict.items()))\n",
    "print(value_dict)"
   ]
  }
 ],
 "metadata": {
  "kernelspec": {
   "display_name": "Python 3",
   "language": "python",
   "name": "python3"
  },
  "language_info": {
   "codemirror_mode": {
    "name": "ipython",
    "version": 3
   },
   "file_extension": ".py",
   "mimetype": "text/x-python",
   "name": "python",
   "nbconvert_exporter": "python",
   "pygments_lexer": "ipython3",
   "version": "3.6.4"
  }
 },
 "nbformat": 4,
 "nbformat_minor": 2
}
