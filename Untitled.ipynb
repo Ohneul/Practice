{
 "cells": [
  {
   "cell_type": "code",
   "execution_count": 1,
   "metadata": {},
   "outputs": [
    {
     "name": "stdout",
     "output_type": "stream",
     "text": [
      "231354212212212212212\n",
      "['231', '354', '212', '212', '212', '212', '212']\n"
     ]
    },
    {
     "data": {
      "text/plain": [
       "'abddddd'"
      ]
     },
     "execution_count": 1,
     "metadata": {},
     "output_type": "execute_result"
    }
   ],
   "source": [
    "change = {'a': '231', 'b': '354', 'c': '112', 'd': '212', 'e': '554', 'f': '324', 'g': '966', 'h': '435', 'i': '576', 'j': '675', 'k': '686', 'l': '887', 'm': '584', \n",
    "          'n': '293', 'o': '944', 'p': '238', 'q': '213', 'r': '685', 's': '878', 't': '592', 'u': '285', 'v': '922', 'w': '496', 'x': '788', 'y': '999', 'z': '111'}\n",
    "word = input('영어 입력 : ')\n",
    "word = word.lower()\n",
    "crt = list(word)\n",
    "pwd = ''\n",
    "for i in range(0, len(crt)):\n",
    "    pwd += change[crt[i]]\n",
    "#이 영어로 입력해서 만들어진 패스워드를 해석하기 위해 아래 명령어를 완성하세요. /[]/ < 빈칸, 빈칸 외 덧붙이거나 수정 가능\n",
    "lit = []\n",
    "for i in range(0, /[i값이 끝나는 범위(미만)]/):\n",
    "    lit.append(/[]/)\n",
    "\n",
    "for i in range(0, /[]/):\n",
    "    for pw, num in change.items(): #딕셔너리 값을 pw와 num에 가져옴\n",
    "        /[자유롭게 코딩]/\n",
    "/[결과 출력]/"
   ]
  }
 ],
 "metadata": {
  "kernelspec": {
   "display_name": "Python 3",
   "language": "python",
   "name": "python3"
  },
  "language_info": {
   "codemirror_mode": {
    "name": "ipython",
    "version": 3
   },
   "file_extension": ".py",
   "mimetype": "text/x-python",
   "name": "python",
   "nbconvert_exporter": "python",
   "pygments_lexer": "ipython3",
   "version": "3.6.4"
  }
 },
 "nbformat": 4,
 "nbformat_minor": 2
}
