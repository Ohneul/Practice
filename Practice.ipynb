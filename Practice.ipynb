{
 "cells": [
  {
   "cell_type": "code",
   "execution_count": 7,
   "metadata": {},
   "outputs": [
    {
     "data": {
      "text/plain": [
       "6"
      ]
     },
     "execution_count": 7,
     "metadata": {},
     "output_type": "execute_result"
    }
   ],
   "source": [
    "#Python를 다뤄보자\n",
    "\n",
    "#이게 기본적인 주석 처리\n",
    "#사칙연산은 매우단순\n",
    "3+3"
   ]
  },
  {
   "cell_type": "code",
   "execution_count": 8,
   "metadata": {},
   "outputs": [
    {
     "data": {
      "text/plain": [
       "2"
      ]
     },
     "execution_count": 8,
     "metadata": {},
     "output_type": "execute_result"
    }
   ],
   "source": [
    "4-2"
   ]
  },
  {
   "cell_type": "code",
   "execution_count": 9,
   "metadata": {},
   "outputs": [
    {
     "data": {
      "text/plain": [
       "24"
      ]
     },
     "execution_count": 9,
     "metadata": {},
     "output_type": "execute_result"
    }
   ],
   "source": [
    "3*8"
   ]
  },
  {
   "cell_type": "code",
   "execution_count": 10,
   "metadata": {},
   "outputs": [
    {
     "data": {
      "text/plain": [
       "0.75"
      ]
     },
     "execution_count": 10,
     "metadata": {},
     "output_type": "execute_result"
    }
   ],
   "source": [
    "3/4"
   ]
  },
  {
   "cell_type": "code",
   "execution_count": 11,
   "metadata": {},
   "outputs": [
    {
     "data": {
      "text/plain": [
       "27"
      ]
     },
     "execution_count": 11,
     "metadata": {},
     "output_type": "execute_result"
    }
   ],
   "source": [
    "#제곱 3의 3제곱\n",
    "3**3"
   ]
  },
  {
   "cell_type": "code",
   "execution_count": 12,
   "metadata": {},
   "outputs": [
    {
     "data": {
      "text/plain": [
       "'abcd'"
      ]
     },
     "execution_count": 12,
     "metadata": {},
     "output_type": "execute_result"
    }
   ],
   "source": [
    "#문자열 다루기\n",
    "#문자열은 큰따옴표와 작은따옴표를 써 묶는다.(차이없음)\n",
    "\"abcd\""
   ]
  },
  {
   "cell_type": "code",
   "execution_count": 13,
   "metadata": {},
   "outputs": [
    {
     "data": {
      "text/plain": [
       "'abcd'"
      ]
     },
     "execution_count": 13,
     "metadata": {},
     "output_type": "execute_result"
    }
   ],
   "source": [
    "\"ab\"+\"cd\""
   ]
  },
  {
   "cell_type": "code",
   "execution_count": 14,
   "metadata": {},
   "outputs": [
    {
     "data": {
      "text/plain": [
       "'abcdabcdabcdabcd'"
      ]
     },
     "execution_count": 14,
     "metadata": {},
     "output_type": "execute_result"
    }
   ],
   "source": [
    "\"abcd\"*4"
   ]
  },
  {
   "cell_type": "code",
   "execution_count": 15,
   "metadata": {},
   "outputs": [
    {
     "data": {
      "text/plain": [
       "\"ab'cd\""
      ]
     },
     "execution_count": 15,
     "metadata": {},
     "output_type": "execute_result"
    }
   ],
   "source": [
    "#작은 따옴표 쓰는법(1. 큰따옴표)\n",
    "\"ab'cd\""
   ]
  },
  {
   "cell_type": "code",
   "execution_count": 16,
   "metadata": {},
   "outputs": [
    {
     "data": {
      "text/plain": [
       "\"ab'cd\""
      ]
     },
     "execution_count": 16,
     "metadata": {},
     "output_type": "execute_result"
    }
   ],
   "source": [
    "#작은 따옴표 쓰는법(2. 백슬래쉬)\n",
    "'ab\\'cd'\n",
    "#큰 따옴표도 동일하게 쓰인다."
   ]
  },
  {
   "cell_type": "code",
   "execution_count": 21,
   "metadata": {},
   "outputs": [
    {
     "data": {
      "text/plain": [
       "'ABCD'"
      ]
     },
     "execution_count": 21,
     "metadata": {},
     "output_type": "execute_result"
    }
   ],
   "source": [
    "#입력값 대문자 표기\n",
    "\"Abcd\".upper()"
   ]
  },
  {
   "cell_type": "code",
   "execution_count": 22,
   "metadata": {},
   "outputs": [
    {
     "data": {
      "text/plain": [
       "'abcd'"
      ]
     },
     "execution_count": 22,
     "metadata": {},
     "output_type": "execute_result"
    }
   ],
   "source": [
    "#입력값 소문자 표기\n",
    "\"aBCD\".lower()"
   ]
  },
  {
   "cell_type": "code",
   "execution_count": 23,
   "metadata": {},
   "outputs": [
    {
     "data": {
      "text/plain": [
       "4"
      ]
     },
     "execution_count": 23,
     "metadata": {},
     "output_type": "execute_result"
    }
   ],
   "source": [
    "#입력값 길이 구하기\n",
    "len(\"abcd\")"
   ]
  },
  {
   "cell_type": "code",
   "execution_count": 24,
   "metadata": {},
   "outputs": [
    {
     "data": {
      "text/plain": [
       "6"
      ]
     },
     "execution_count": 24,
     "metadata": {},
     "output_type": "execute_result"
    }
   ],
   "source": [
    "#숫자의 길이를 구할 때는 문자열로 변환을 해서 구해야한다.\n",
    "len(str(123456))"
   ]
  },
  {
   "cell_type": "code",
   "execution_count": 26,
   "metadata": {},
   "outputs": [],
   "source": [
    "#변수 생성\n",
    "name = \"abcd\""
   ]
  },
  {
   "cell_type": "code",
   "execution_count": 27,
   "metadata": {},
   "outputs": [
    {
     "data": {
      "text/plain": [
       "'abcd'"
      ]
     },
     "execution_count": 27,
     "metadata": {},
     "output_type": "execute_result"
    }
   ],
   "source": [
    "#변수 출력\n",
    "name"
   ]
  },
  {
   "cell_type": "code",
   "execution_count": 28,
   "metadata": {},
   "outputs": [
    {
     "data": {
      "text/plain": [
       "'ABCD'"
      ]
     },
     "execution_count": 28,
     "metadata": {},
     "output_type": "execute_result"
    }
   ],
   "source": [
    "#변수값 변경 및 출력\n",
    "name = \"ABCD\"\n",
    "name"
   ]
  },
  {
   "cell_type": "code",
   "execution_count": 29,
   "metadata": {},
   "outputs": [
    {
     "data": {
      "text/plain": [
       "4"
      ]
     },
     "execution_count": 29,
     "metadata": {},
     "output_type": "execute_result"
    }
   ],
   "source": [
    "len(name)"
   ]
  },
  {
   "cell_type": "code",
   "execution_count": 3,
   "metadata": {},
   "outputs": [
    {
     "data": {
      "text/plain": [
       "264"
      ]
     },
     "execution_count": 3,
     "metadata": {},
     "output_type": "execute_result"
    }
   ],
   "source": [
    "a = 12\n",
    "b = 22\n",
    "a * b"
   ]
  },
  {
   "cell_type": "code",
   "execution_count": 31,
   "metadata": {},
   "outputs": [
    {
     "name": "stdout",
     "output_type": "stream",
     "text": [
      "ABCD\n"
     ]
    }
   ],
   "source": [
    "#출력문\n",
    "print(name)"
   ]
  },
  {
   "cell_type": "code",
   "execution_count": 33,
   "metadata": {},
   "outputs": [],
   "source": [
    "#리스트\n",
    "number = [1, 72, 44, 33, 35, 99, 23]"
   ]
  },
  {
   "cell_type": "code",
   "execution_count": 34,
   "metadata": {},
   "outputs": [
    {
     "data": {
      "text/plain": [
       "7"
      ]
     },
     "execution_count": 34,
     "metadata": {},
     "output_type": "execute_result"
    }
   ],
   "source": [
    "len(number)"
   ]
  },
  {
   "cell_type": "code",
   "execution_count": 35,
   "metadata": {},
   "outputs": [
    {
     "data": {
      "text/plain": [
       "[1, 72, 44, 33, 35, 99, 23]"
      ]
     },
     "execution_count": 35,
     "metadata": {},
     "output_type": "execute_result"
    }
   ],
   "source": [
    "number"
   ]
  },
  {
   "cell_type": "code",
   "execution_count": 42,
   "metadata": {},
   "outputs": [
    {
     "name": "stdout",
     "output_type": "stream",
     "text": [
      "[1, 23, 33, 35, 44, 72, 99]\n"
     ]
    }
   ],
   "source": [
    "#리스트 정렬(오름차순)\n",
    "number.sort()\n",
    "print(number)"
   ]
  },
  {
   "cell_type": "code",
   "execution_count": 41,
   "metadata": {},
   "outputs": [
    {
     "name": "stdout",
     "output_type": "stream",
     "text": [
      "[99, 72, 44, 35, 33, 23, 1]\n"
     ]
    }
   ],
   "source": [
    "#리스트 정렬(내림차순)\n",
    "number.reverse()\n",
    "print(number)"
   ]
  },
  {
   "cell_type": "code",
   "execution_count": 45,
   "metadata": {},
   "outputs": [
    {
     "data": {
      "text/plain": [
       "[1, 23, 33, 35, 44, 72, 99, 56, 56, 56]"
      ]
     },
     "execution_count": 45,
     "metadata": {},
     "output_type": "execute_result"
    }
   ],
   "source": [
    "#리스트 값 추가\n",
    "number.append(56)\n",
    "number"
   ]
  },
  {
   "cell_type": "code",
   "execution_count": 47,
   "metadata": {},
   "outputs": [
    {
     "name": "stdout",
     "output_type": "stream",
     "text": [
      "99\n"
     ]
    }
   ],
   "source": [
    "#리스트 값 출력\n",
    "print(number[6])"
   ]
  },
  {
   "cell_type": "code",
   "execution_count": 48,
   "metadata": {},
   "outputs": [
    {
     "data": {
      "text/plain": [
       "[1, 23, 33, 35, 44, 72, 99, 56, 56]"
      ]
     },
     "execution_count": 48,
     "metadata": {},
     "output_type": "execute_result"
    }
   ],
   "source": [
    "#리스트 값 제거\n",
    "number.pop(7)\n",
    "number"
   ]
  },
  {
   "cell_type": "code",
   "execution_count": 49,
   "metadata": {},
   "outputs": [
    {
     "data": {
      "text/plain": [
       "{'country': 'Korea', 'favorite_number': [1, 4, 7], 'name': 'chang'}"
      ]
     },
     "execution_count": 49,
     "metadata": {},
     "output_type": "execute_result"
    }
   ],
   "source": [
    "#딕셔너리\n",
    "participant = {'name': 'chang', 'country': 'Korea', 'favorite_number': [1, 4, 7]}\n",
    "participant"
   ]
  },
  {
   "cell_type": "code",
   "execution_count": 51,
   "metadata": {},
   "outputs": [
    {
     "data": {
      "text/plain": [
       "'chang'"
      ]
     },
     "execution_count": 51,
     "metadata": {},
     "output_type": "execute_result"
    }
   ],
   "source": [
    "participant['name']"
   ]
  },
  {
   "cell_type": "code",
   "execution_count": 52,
   "metadata": {},
   "outputs": [
    {
     "data": {
      "text/plain": [
       "{'country': 'Korea',\n",
       " 'favorite_number': [1, 4, 7],\n",
       " 'language': 'Python',\n",
       " 'name': 'chang'}"
      ]
     },
     "execution_count": 52,
     "metadata": {},
     "output_type": "execute_result"
    }
   ],
   "source": [
    "#딕셔너리 추가\n",
    "participant['language'] = 'Python'\n",
    "participant"
   ]
  },
  {
   "cell_type": "code",
   "execution_count": 54,
   "metadata": {},
   "outputs": [
    {
     "data": {
      "text/plain": [
       "4"
      ]
     },
     "execution_count": 54,
     "metadata": {},
     "output_type": "execute_result"
    }
   ],
   "source": [
    "len(participant)"
   ]
  },
  {
   "cell_type": "code",
   "execution_count": 56,
   "metadata": {},
   "outputs": [
    {
     "data": {
      "text/plain": [
       "{'favorite_number': [1, 4, 7], 'language': 'Python', 'name': 'chang'}"
      ]
     },
     "execution_count": 56,
     "metadata": {},
     "output_type": "execute_result"
    }
   ],
   "source": [
    "#딕셔너리 삭제\n",
    "participant.pop('country')\n",
    "participant"
   ]
  },
  {
   "cell_type": "code",
   "execution_count": 57,
   "metadata": {},
   "outputs": [
    {
     "data": {
      "text/plain": [
       "{'favorite_number': [1, 4, 7], 'language': 'Python', 'name': 'euichang'}"
      ]
     },
     "execution_count": 57,
     "metadata": {},
     "output_type": "execute_result"
    }
   ],
   "source": [
    "#딕셔너리 수정\n",
    "participant['name'] = 'euichang'\n",
    "participant"
   ]
  },
  {
   "cell_type": "code",
   "execution_count": 58,
   "metadata": {},
   "outputs": [
    {
     "data": {
      "text/plain": [
       "True"
      ]
     },
     "execution_count": 58,
     "metadata": {},
     "output_type": "execute_result"
    }
   ],
   "source": [
    "#비교\n",
    "5>2"
   ]
  },
  {
   "cell_type": "code",
   "execution_count": 59,
   "metadata": {},
   "outputs": [
    {
     "data": {
      "text/plain": [
       "False"
      ]
     },
     "execution_count": 59,
     "metadata": {},
     "output_type": "execute_result"
    }
   ],
   "source": [
    "2>3"
   ]
  },
  {
   "cell_type": "code",
   "execution_count": 61,
   "metadata": {},
   "outputs": [
    {
     "data": {
      "text/plain": [
       "True"
      ]
     },
     "execution_count": 61,
     "metadata": {},
     "output_type": "execute_result"
    }
   ],
   "source": [
    "2==2"
   ]
  },
  {
   "cell_type": "code",
   "execution_count": 62,
   "metadata": {},
   "outputs": [
    {
     "data": {
      "text/plain": [
       "False"
      ]
     },
     "execution_count": 62,
     "metadata": {},
     "output_type": "execute_result"
    }
   ],
   "source": [
    "2!=2"
   ]
  },
  {
   "cell_type": "code",
   "execution_count": 63,
   "metadata": {},
   "outputs": [
    {
     "data": {
      "text/plain": [
       "True"
      ]
     },
     "execution_count": 63,
     "metadata": {},
     "output_type": "execute_result"
    }
   ],
   "source": [
    "2!=3"
   ]
  },
  {
   "cell_type": "code",
   "execution_count": 64,
   "metadata": {},
   "outputs": [
    {
     "data": {
      "text/plain": [
       "True"
      ]
     },
     "execution_count": 64,
     "metadata": {},
     "output_type": "execute_result"
    }
   ],
   "source": [
    "2>=2"
   ]
  },
  {
   "cell_type": "code",
   "execution_count": 65,
   "metadata": {},
   "outputs": [
    {
     "data": {
      "text/plain": [
       "False"
      ]
     },
     "execution_count": 65,
     "metadata": {},
     "output_type": "execute_result"
    }
   ],
   "source": [
    "2>=3"
   ]
  },
  {
   "cell_type": "code",
   "execution_count": 66,
   "metadata": {},
   "outputs": [
    {
     "data": {
      "text/plain": [
       "True"
      ]
     },
     "execution_count": 66,
     "metadata": {},
     "output_type": "execute_result"
    }
   ],
   "source": [
    "2>=1"
   ]
  },
  {
   "cell_type": "code",
   "execution_count": 67,
   "metadata": {},
   "outputs": [
    {
     "data": {
      "text/plain": [
       "True"
      ]
     },
     "execution_count": 67,
     "metadata": {},
     "output_type": "execute_result"
    }
   ],
   "source": [
    "3<=4"
   ]
  },
  {
   "cell_type": "code",
   "execution_count": 68,
   "metadata": {},
   "outputs": [
    {
     "data": {
      "text/plain": [
       "False"
      ]
     },
     "execution_count": 68,
     "metadata": {},
     "output_type": "execute_result"
    }
   ],
   "source": [
    "2>1*2"
   ]
  },
  {
   "cell_type": "code",
   "execution_count": 69,
   "metadata": {},
   "outputs": [
    {
     "data": {
      "text/plain": [
       "True"
      ]
     },
     "execution_count": 69,
     "metadata": {},
     "output_type": "execute_result"
    }
   ],
   "source": [
    "2>=4/2"
   ]
  },
  {
   "cell_type": "code",
   "execution_count": 71,
   "metadata": {},
   "outputs": [
    {
     "data": {
      "text/plain": [
       "True"
      ]
     },
     "execution_count": 71,
     "metadata": {},
     "output_type": "execute_result"
    }
   ],
   "source": [
    "6>2 and 2<3"
   ]
  },
  {
   "cell_type": "code",
   "execution_count": 72,
   "metadata": {},
   "outputs": [
    {
     "data": {
      "text/plain": [
       "False"
      ]
     },
     "execution_count": 72,
     "metadata": {},
     "output_type": "execute_result"
    }
   ],
   "source": [
    "6>2 and 2>3"
   ]
  },
  {
   "cell_type": "code",
   "execution_count": 73,
   "metadata": {},
   "outputs": [
    {
     "data": {
      "text/plain": [
       "True"
      ]
     },
     "execution_count": 73,
     "metadata": {},
     "output_type": "execute_result"
    }
   ],
   "source": [
    "6>2 or 2>3"
   ]
  },
  {
   "cell_type": "code",
   "execution_count": 74,
   "metadata": {},
   "outputs": [
    {
     "data": {
      "text/plain": [
       "True"
      ]
     },
     "execution_count": 74,
     "metadata": {},
     "output_type": "execute_result"
    }
   ],
   "source": [
    "#boolean 값\n",
    "a = True\n",
    "a"
   ]
  },
  {
   "cell_type": "code",
   "execution_count": 75,
   "metadata": {},
   "outputs": [
    {
     "data": {
      "text/plain": [
       "False"
      ]
     },
     "execution_count": 75,
     "metadata": {},
     "output_type": "execute_result"
    }
   ],
   "source": [
    "a = 5<2\n",
    "a"
   ]
  },
  {
   "cell_type": "code",
   "execution_count": 78,
   "metadata": {},
   "outputs": [],
   "source": [
    "#종료문은 exit()"
   ]
  },
  {
   "cell_type": "code",
   "execution_count": 1,
   "metadata": {},
   "outputs": [
    {
     "data": {
      "text/plain": [
       "'12'"
      ]
     },
     "execution_count": 1,
     "metadata": {},
     "output_type": "execute_result"
    }
   ],
   "source": [
    "#입력문\n",
    "input_num = input()\n",
    "input_num"
   ]
  },
  {
   "cell_type": "code",
   "execution_count": 4,
   "metadata": {},
   "outputs": [
    {
     "name": "stdout",
     "output_type": "stream",
     "text": [
      "거짓입니다.\n"
     ]
    }
   ],
   "source": [
    "#조건문\n",
    "if a>b:\n",
    "    print(\"참입니다.\")\n",
    "else:\n",
    "    print(\"거짓입니다.\")"
   ]
  },
  {
   "cell_type": "code",
   "execution_count": 7,
   "metadata": {},
   "outputs": [
    {
     "name": "stdout",
     "output_type": "stream",
     "text": [
      "B\n"
     ]
    }
   ],
   "source": [
    "num = int(input())\n",
    "if num>=90:\n",
    "    print(\"A\")\n",
    "elif num>=80:\n",
    "    print(\"B\")\n",
    "else:\n",
    "    print(\"C\")"
   ]
  },
  {
   "cell_type": "code",
   "execution_count": 8,
   "metadata": {},
   "outputs": [],
   "source": [
    "#함수 만들기\n",
    "def hi():\n",
    "    print(\"Hi!\")\n",
    "    print(\"My name is Jung eui chang\")"
   ]
  },
  {
   "cell_type": "code",
   "execution_count": 10,
   "metadata": {},
   "outputs": [
    {
     "name": "stdout",
     "output_type": "stream",
     "text": [
      "Hi!\n",
      "My name is Jung eui chang\n"
     ]
    }
   ],
   "source": [
    "hi()"
   ]
  },
  {
   "cell_type": "code",
   "execution_count": 14,
   "metadata": {},
   "outputs": [
    {
     "name": "stdout",
     "output_type": "stream",
     "text": [
      "Hi euichang!\n"
     ]
    }
   ],
   "source": [
    "def hi(name):\n",
    "    print(\"Hi \" + name + \"!\")\n",
    "hi('euichang')"
   ]
  },
  {
   "cell_type": "code",
   "execution_count": 3,
   "metadata": {},
   "outputs": [
    {
     "name": "stdout",
     "output_type": "stream",
     "text": [
      "삼각형의 넓이 :  450.0\n",
      "◣ \n",
      "◣ ◣ \n",
      "◣ ◣ ◣ \n",
      "◣ ◣ ◣ ◣ \n",
      "◣ ◣ ◣ ◣ ◣ \n",
      "◣ ◣ ◣ ◣ ◣ ◣ \n",
      "◣ ◣ ◣ ◣ ◣ ◣ ◣ \n",
      "◣ ◣ ◣ ◣ ◣ ◣ ◣ ◣ \n",
      "◣ ◣ ◣ ◣ ◣ ◣ ◣ ◣ ◣ \n",
      "◣ ◣ ◣ ◣ ◣ ◣ ◣ ◣ ◣ ◣ \n",
      "◣ ◣ ◣ ◣ ◣ ◣ ◣ ◣ ◣ ◣ ◣ \n",
      "◣ ◣ ◣ ◣ ◣ ◣ ◣ ◣ ◣ ◣ ◣ ◣ \n",
      "◣ ◣ ◣ ◣ ◣ ◣ ◣ ◣ ◣ ◣ ◣ ◣ ◣ \n",
      "◣ ◣ ◣ ◣ ◣ ◣ ◣ ◣ ◣ ◣ ◣ ◣ ◣ ◣ \n",
      "◣ ◣ ◣ ◣ ◣ ◣ ◣ ◣ ◣ ◣ ◣ ◣ ◣ ◣ ◣ \n",
      "◣ ◣ ◣ ◣ ◣ ◣ ◣ ◣ ◣ ◣ ◣ ◣ ◣ ◣ ◣ ◣ \n",
      "◣ ◣ ◣ ◣ ◣ ◣ ◣ ◣ ◣ ◣ ◣ ◣ ◣ ◣ ◣ ◣ ◣ \n",
      "◣ ◣ ◣ ◣ ◣ ◣ ◣ ◣ ◣ ◣ ◣ ◣ ◣ ◣ ◣ ◣ ◣ ◣ \n",
      "◣ ◣ ◣ ◣ ◣ ◣ ◣ ◣ ◣ ◣ ◣ ◣ ◣ ◣ ◣ ◣ ◣ ◣ ◣ \n",
      "◣ ◣ ◣ ◣ ◣ ◣ ◣ ◣ ◣ ◣ ◣ ◣ ◣ ◣ ◣ ◣ ◣ ◣ ◣ ◣ \n",
      "◣ ◣ ◣ ◣ ◣ ◣ ◣ ◣ ◣ ◣ ◣ ◣ ◣ ◣ ◣ ◣ ◣ ◣ ◣ ◣ ◣ \n",
      "◣ ◣ ◣ ◣ ◣ ◣ ◣ ◣ ◣ ◣ ◣ ◣ ◣ ◣ ◣ ◣ ◣ ◣ ◣ ◣ ◣ ◣ \n",
      "◣ ◣ ◣ ◣ ◣ ◣ ◣ ◣ ◣ ◣ ◣ ◣ ◣ ◣ ◣ ◣ ◣ ◣ ◣ ◣ ◣ ◣ ◣ \n",
      "◣ ◣ ◣ ◣ ◣ ◣ ◣ ◣ ◣ ◣ ◣ ◣ ◣ ◣ ◣ ◣ ◣ ◣ ◣ ◣ ◣ ◣ ◣ ◣ \n",
      "◣ ◣ ◣ ◣ ◣ ◣ ◣ ◣ ◣ ◣ ◣ ◣ ◣ ◣ ◣ ◣ ◣ ◣ ◣ ◣ ◣ ◣ ◣ ◣ ◣ \n",
      "◣ ◣ ◣ ◣ ◣ ◣ ◣ ◣ ◣ ◣ ◣ ◣ ◣ ◣ ◣ ◣ ◣ ◣ ◣ ◣ ◣ ◣ ◣ ◣ ◣ ◣ \n",
      "◣ ◣ ◣ ◣ ◣ ◣ ◣ ◣ ◣ ◣ ◣ ◣ ◣ ◣ ◣ ◣ ◣ ◣ ◣ ◣ ◣ ◣ ◣ ◣ ◣ ◣ ◣ \n",
      "◣ ◣ ◣ ◣ ◣ ◣ ◣ ◣ ◣ ◣ ◣ ◣ ◣ ◣ ◣ ◣ ◣ ◣ ◣ ◣ ◣ ◣ ◣ ◣ ◣ ◣ ◣ ◣ \n",
      "◣ ◣ ◣ ◣ ◣ ◣ ◣ ◣ ◣ ◣ ◣ ◣ ◣ ◣ ◣ ◣ ◣ ◣ ◣ ◣ ◣ ◣ ◣ ◣ ◣ ◣ ◣ ◣ ◣ \n",
      "◣ ◣ ◣ ◣ ◣ ◣ ◣ ◣ ◣ ◣ ◣ ◣ ◣ ◣ ◣ ◣ ◣ ◣ ◣ ◣ ◣ ◣ ◣ ◣ ◣ ◣ ◣ ◣ ◣ ◣ \n"
     ]
    }
   ],
   "source": [
    "#반복문\n",
    "a = float(input('변의 길이 : '))\n",
    "\n",
    "area = (a**2) / 2\n",
    "print('삼각형의 넓이 : ', area)\n",
    "\n",
    "for i in range(1, int(a+1)):\n",
    "    print('◣ ' * i)"
   ]
  }
 ],
 "metadata": {
  "kernelspec": {
   "display_name": "Python 3",
   "language": "python",
   "name": "python3"
  },
  "language_info": {
   "codemirror_mode": {
    "name": "ipython",
    "version": 3
   },
   "file_extension": ".py",
   "mimetype": "text/x-python",
   "name": "python",
   "nbconvert_exporter": "python",
   "pygments_lexer": "ipython3",
   "version": "3.6.4"
  }
 },
 "nbformat": 4,
 "nbformat_minor": 2
}
