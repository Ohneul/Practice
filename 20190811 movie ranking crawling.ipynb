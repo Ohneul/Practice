{
 "cells": [
  {
   "cell_type": "markdown",
   "metadata": {},
   "source": [
    "# 영화 Top20 크롤링 하기\n",
    "- 1~20위의 영화 제목과 평점 예매율을 크롤링을 통해 수집하여 출력한다.\n",
    "- 최종본은 아래"
   ]
  },
  {
   "cell_type": "code",
   "execution_count": 4,
   "metadata": {},
   "outputs": [],
   "source": [
    "from urllib.request import urlopen\n",
    "from bs4 import BeautifulSoup\n",
    "import re\n",
    "\n",
    "url = \"https://movie.naver.com/movie/running/current.nhn?view=list&tab=normal&order=reserve\" #네이버 영화 페이지 기준으로 함."
   ]
  },
  {
   "cell_type": "code",
   "execution_count": 163,
   "metadata": {},
   "outputs": [],
   "source": [
    "try:\n",
    "    html = urlopen(url)\n",
    "except HTTPError as e:\n",
    "    print(e)\n",
    "    \n",
    "movieInfo = BeautifulSoup(html, 'html.parser')"
   ]
  },
  {
   "cell_type": "code",
   "execution_count": 164,
   "metadata": {},
   "outputs": [],
   "source": [
    "movie_name = [movieInfo.findAll('dt', 'tit')[n].a.string for n in range(0, 20)]\n",
    "movie_exp = [movieInfo.findAll('div', 'star_t1 b_star')[n].span.string for n in range(0, 20)]"
   ]
  },
  {
   "cell_type": "code",
   "execution_count": 165,
   "metadata": {},
   "outputs": [
    {
     "data": {
      "text/plain": [
       "[8.53,\n",
       " 7.54,\n",
       " 8.96,\n",
       " 9.14,\n",
       " 8.64,\n",
       " 8.29,\n",
       " 7.24,\n",
       " 9.31,\n",
       " 9.41,\n",
       " 8.6,\n",
       " 8.86,\n",
       " 8.37,\n",
       " 9.55,\n",
       " 7.71,\n",
       " 3.49,\n",
       " 8.48,\n",
       " 8.06,\n",
       " 8.22,\n",
       " 9.08,\n",
       " 4.91]"
      ]
     },
     "execution_count": 165,
     "metadata": {},
     "output_type": "execute_result"
    }
   ],
   "source": [
    "num = [movieInfo.findAll('dl', 'info_star')[n] for n in range(0, 20)]\n",
    "movie_num = []\n",
    "for i in range(0,20):\n",
    "    a = re.findall(\"\\d+\", str(num[i]))\n",
    "    movie_num.append(int(a[5]) + int(a[6])*0.01)\n",
    "movie_num\n",
    "# a = re.findall(\"\\d+\", b)\n",
    "# a\n"
   ]
  },
  {
   "cell_type": "markdown",
   "metadata": {},
   "source": [
    "## 최종본"
   ]
  },
  {
   "cell_type": "code",
   "execution_count": 167,
   "metadata": {},
   "outputs": [
    {
     "name": "stdout",
     "output_type": "stream",
     "text": [
      "1 위\t 엑시트\n",
      "\t 평점: 8.53 점   예매율: 42.07 %\n",
      "\n",
      "2 위\t 봉오동 전투\n",
      "\t 평점: 7.54 점   예매율: 32.34 %\n",
      "\n",
      "3 위\t 마이펫의 이중생활2\n",
      "\t 평점: 8.96 점   예매율: 5.02 %\n",
      "\n",
      "4 위\t 브링 더 소울 : 더 무비\n",
      "\t 평점: 9.14 점   예매율: 3.95 %\n",
      "\n",
      "5 위\t 앵그리 버드 2: 독수리 왕국의 침공\n",
      "\t 평점: 8.64 점   예매율: 3.27 %\n",
      "\n",
      "6 위\t 라이온 킹\n",
      "\t 평점: 8.29 점   예매율: 2.98 %\n",
      "\n",
      "7 위\t 사자\n",
      "\t 평점: 7.24 점   예매율: 2.67 %\n",
      "\n",
      "8 위\t 레드슈즈\n",
      "\t 평점: 9.31 점   예매율: 2.43 %\n",
      "\n",
      "9 위\t 알라딘\n",
      "\t 평점: 9.41 점   예매율: 2.02 %\n",
      "\n",
      "10 위\t 캐리tv 러브콘서트 더 무비\n",
      "\t 평점: 8.6 점   예매율: 0.6 %\n",
      "\n",
      "11 위\t 김복동\n",
      "\t 평점: 8.86 점   예매율: 0.59 %\n",
      "\n",
      "12 위\t 스파이더맨: 파 프롬 홈\n",
      "\t 평점: 8.37 점   예매율: 0.29 %\n",
      "\n",
      "13 위\t 주전장\n",
      "\t 평점: 9.55 점   예매율: 0.24 %\n",
      "\n",
      "14 위\t 호크니\n",
      "\t 평점: 7.71 점   예매율: 0.17 %\n",
      "\n",
      "15 위\t 나랏말싸미\n",
      "\t 평점: 3.49 점   예매율: 0.16 %\n",
      "\n",
      "16 위\t 기생충\n",
      "\t 평점: 8.48 점   예매율: 0.14 %\n",
      "\n",
      "17 위\t 누구나 아는 비밀\n",
      "\t 평점: 8.06 점   예매율: 0.1 %\n",
      "\n",
      "18 위\t 롱 샷\n",
      "\t 평점: 8.22 점   예매율: 0.09 %\n",
      "\n",
      "19 위\t 토이 스토리 4\n",
      "\t 평점: 9.08 점   예매율: 0.09 %\n",
      "\n",
      "20 위\t 명탐정 코난: 감청의 권\n",
      "\t 평점: 4.91 점   예매율: 0.05 %\n",
      "\n"
     ]
    }
   ],
   "source": [
    "from urllib.request import urlopen\n",
    "from bs4 import BeautifulSoup\n",
    "import re\n",
    "\n",
    "url = \"https://movie.naver.com/movie/running/current.nhn?view=list&tab=normal&order=reserve\" #네이버 영화 페이지 기준으로 함\n",
    "\n",
    "try:\n",
    "    html = urlopen(url)\n",
    "except HTTPError as e:\n",
    "    print(e)\n",
    "    \n",
    "movieInfo = BeautifulSoup(html, 'html.parser')\n",
    "\n",
    "movie_name = [movieInfo.findAll('dt', 'tit')[n].a.string for n in range(0, 20)] # 1~20위까지 영화 제목 추출\n",
    "movie_exp = [movieInfo.findAll('div', 'star_t1 b_star')[n].span.string for n in range(0, 20)] # 영화 예매율 추출\n",
    "num = [movieInfo.findAll('dl', 'info_star')[n] for n in range(0, 20)] # 여기부터 출력 전까지 영화 평점 추출 과정\n",
    "movie_num = []\n",
    "for i in range(0,20): # 적당한 크롤링 키가 없기에 큰 자료에서 숫자 추출 후 평점 표기 식으로 정리\n",
    "    a = re.findall(\"\\d+\", str(num[i]))\n",
    "    movie_num.append(int(a[5]) + int(a[6])*0.01)\n",
    "\n",
    "for i in range(0, 20): # 결과 추출\n",
    "    print(i+1, '위\\t', movie_name[i])\n",
    "    print('\\t 평점:', movie_num[i], '점', '  예매율:', movie_exp[i],'%')\n",
    "    print()"
   ]
  }
 ],
 "metadata": {
  "kernelspec": {
   "display_name": "Python 3",
   "language": "python",
   "name": "python3"
  },
  "language_info": {
   "codemirror_mode": {
    "name": "ipython",
    "version": 3
   },
   "file_extension": ".py",
   "mimetype": "text/x-python",
   "name": "python",
   "nbconvert_exporter": "python",
   "pygments_lexer": "ipython3",
   "version": "3.6.4"
  }
 },
 "nbformat": 4,
 "nbformat_minor": 2
}
